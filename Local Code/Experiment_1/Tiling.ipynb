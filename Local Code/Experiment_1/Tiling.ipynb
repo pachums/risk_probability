{
 "cells": [
  {
   "cell_type": "markdown",
   "metadata": {},
   "source": [
    "# Tiling\n",
    "Through this action, the previous mosaic is trimmed according to the limits of the desired administrative area. The result of this process is a multispectral image of the perfectly bounded study area."
   ]
  },
  {
   "cell_type": "code",
   "execution_count": 47,
   "metadata": {},
   "outputs": [],
   "source": [
    "import gdal, ogr, osr\n",
    "import os\n",
    "import time\n",
    "\n",
    "print('Libraries imported successfully')"
   ]
  },
  {
   "cell_type": "code",
   "execution_count": null,
   "metadata": {},
   "outputs": [],
   "source": [
    "seg_start=time.time() #For checking ejecution time"
   ]
  },
  {
   "cell_type": "markdown",
   "metadata": {},
   "source": [
    "### Get layer extent\n",
    "Return the extent of layer with GPKG or ESRI Shapefile formats\n",
    "\n",
    " - <b>layer_path</b>: Path to the layer"
   ]
  },
  {
   "cell_type": "code",
   "execution_count": 48,
   "metadata": {},
   "outputs": [],
   "source": [
    "def get_layerextent(layer_path):\n",
    "     # check if it is gpgk or shp file\n",
    "    longitud = len(layer_path.split(\".\"))\n",
    "    driver_name = layer_path.split(\".\")[longitud - 1]\n",
    "    if driver_name == \"gpkg\":\n",
    "        driver = ogr.GetDriverByName(\"GPKG\")\n",
    "    if driver_name == \"shp\":\n",
    "        driver = ogr.GetDriverByName(\"ESRI Shapefile\")\n",
    "        \n",
    "     # open and get the extent\n",
    "    ds = driver.Open(layer_path)\n",
    "    xmin, xmax, ymin, ymax = ds.GetLayer().GetExtent()\n",
    "    extent = f\"{xmin}, {ymin}, {xmax}, {ymax}\"\n",
    "\n",
    "    del ds\n",
    "    raster_extent=extent"
   ]
  },
  {
   "cell_type": "markdown",
   "metadata": {},
   "source": [
    "### Layer within raster\n",
    "check if a layer is inside the raster\n",
    "\n",
    " - <b>raster_extent</b>: extent of the raster\n",
    " \n",
    " - <b>layer_geom</b>: geometry of the layer\n",
    " \n",
    " - <b>lesser_lextetn</b>: If True a smaller extent is evaluated"
   ]
  },
  {
   "cell_type": "code",
   "execution_count": null,
   "metadata": {},
   "outputs": [],
   "source": [
    "def layer_within_raster(raster_extent, layer_geom, lesser_lextent=False):\n",
    "\n",
    "    rxmin, rxmax, rymin, rymax = raster_extent\n",
    "    lxmin, lxmax, lymin, lymax = layer_geom.GetEnvelope()\n",
    "\n",
    "    if lesser_lextent:\n",
    "        # Getting a smaller bounding box\n",
    "        lxmin = lxmin + 100\n",
    "        lxmax = lxmax - 100\n",
    "        lymin = lymin + 100\n",
    "        lymax = lymax - 100\n",
    "\n",
    "    i = 0\n",
    "    if lxmin >= rxmin:  # 1. upper left corner\n",
    "        i += 1\n",
    "    if lymax <= rymax:  # 2. upper right corner\n",
    "        i += 1\n",
    "    if lxmax <= rxmax:  # 3. lower right corner\n",
    "        i += 1\n",
    "    if lymin >= rymin:  # 4. lower left corner\n",
    "        i += 1\n",
    "\n",
    "    if i == 4:\n",
    "        out = True\n",
    "    else:\n",
    "        out = False\n",
    "    return (out)"
   ]
  },
  {
   "cell_type": "markdown",
   "metadata": {},
   "source": [
    "### Naming convention\n",
    "Creates naming based on the raster name and geometries: date_xmin-ymax_sentineltile_band\n",
    "\n",
    " - <b>raster_path</b>: path to raster file\n",
    " \n",
    " - <b>geometry</b>: geometry of the feature"
   ]
  },
  {
   "cell_type": "code",
   "execution_count": null,
   "metadata": {},
   "outputs": [],
   "source": [
    "def naming_convention(raster_path, geometry):\n",
    "\n",
    "    # xmin, xmax, ymin, ymax\n",
    "    xmin, xmax, ymin, ymax = geometry.GetEnvelope()\n",
    "    splitted = raster_path.split(\"/\")\n",
    "    len_splitted = len(splitted)\n",
    "    name_tmp1 = splitted[len_splitted - 1]\n",
    "    name = name_tmp1.split(\".\")[0]\n",
    "    name_splitted = name.split(\"_\")\n",
    "    if len(name_splitted) < 3:\n",
    "        outaname = f\"{name}_{float(xmin)}-{float(ymax)}\"\n",
    "    else:\n",
    "        sent_tile = name_splitted[0]\n",
    "        band = name_splitted[2]\n",
    "        date_tmp = name_splitted[1]\n",
    "        date = date_tmp.split(\"T\")[0]\n",
    "\n",
    "        outaname = f\"{date}_{float(xmin)}-{float(ymax)}_{sent_tile}_{band}\"\n",
    "    return (outaname)"
   ]
  },
  {
   "cell_type": "markdown",
   "metadata": {},
   "source": [
    "### Reproject\n",
    "Function to reproject an image to a desire espg\n",
    "\n",
    " - <b>image</b>: path to raster image\n",
    " \n",
    " - <b>output_folder</b>: output folder where the output image will be saved\n",
    " \n",
    " - <b>epsg_to</b>: coordinate epsg code to reproject into. 25830 by deafult."
   ]
  },
  {
   "cell_type": "code",
   "execution_count": 49,
   "metadata": {},
   "outputs": [],
   "source": [
    "def reproject(image, output_folder, epsg_to=25830):\n",
    "    \n",
    "    splitted = image.split(\"/\")\n",
    "    lenout = len(splitted)\n",
    "    out_name = splitted[lenout-1]\n",
    "    output = f\"{output_folder}/reprojeted_{out_name}\"\n",
    "\n",
    "    dataset = gdal.Open(image)\n",
    "    srs = osr.SpatialReference()\n",
    "    srs.ImportFromEPSG(epsg_to)\n",
    "    vrt_ds = gdal.AutoCreateWarpedVRT(dataset, None, srs.ExportToWkt(), gdal.GRA_NearestNeighbour)\n",
    "\n",
    "    # cols = vrt_ds.RasterXSize\n",
    "    # rows = vrt_ds.RasterYSize\n",
    "    gdal.GetDriverByName(\"GTiff\").CreateCopy(output, vrt_ds)"
   ]
  },
  {
   "cell_type": "markdown",
   "metadata": {},
   "source": [
    "### Masking tiles\n",
    "It creates tiles from a raster image based on a grid previously created\n",
    "\n",
    " - <b>layer_tiles</b>: path to grid\n",
    " \n",
    " - <b>raster_path</b>: path to raster\n",
    " \n",
    " - <b>output_folder</b>: path to output folder\n",
    "  \n",
    " - <b>field</b>: Field with cut tiles with\n",
    "  \n",
    " - <b>naming</b>: Apply naming rule (function define before)\n",
    "  \n",
    " - <b>extent</b>: Cut with extent  \n",
    " \n",
    " - <b>lesser_lextent</b>: create an smaller extent \n",
    " \n",
    " - <b>reproyectar</b>: If True, reprojection is applied\n",
    "   \n",
    " - <b>epsg</b>: EPSG code of the srs to reproject into"
   ]
  },
  {
   "cell_type": "code",
   "execution_count": null,
   "metadata": {},
   "outputs": [],
   "source": [
    "def masking_tiles(layer_tiles,\n",
    "                  raster_path,\n",
    "                  output_folder,\n",
    "                  field=\"fid_id\",\n",
    "                  naming=True,\n",
    "                  extent=False, #Falta desarrollar extent para .tif\n",
    "                  lesser_lextent=False,\n",
    "                  reproyectar=False,\n",
    "                  epsg=25830\n",
    "                  ):\n",
    "    \n",
    "    if os.path.exists(output_folder) is False:\n",
    "        os.mkdir(output_folder)\n",
    "\n",
    "    if reproyectar:\n",
    "        raster_path2 = raster_path\n",
    "        raster_path = reproject(raster_path, output_folder, epsg_to=epsg)\n",
    "        print(raster_path)\n",
    "\n",
    "    driver=ogr.GetDriverByName(\"GPKG\")\n",
    "    ds = driver.Open(layer_tiles)\n",
    "    layer = ds.GetLayer()\n",
    "    i=0\n",
    "    \n",
    "    print('Creating masking tiles files')\n",
    "    for feature in layer: \n",
    "        i=i+1\n",
    "        geom = feature.geometry()\n",
    "        fid = feature.GetField(field)\n",
    "        if naming:\n",
    "            if reproyectar:\n",
    "                out_name = naming_convention(raster_path2, geom)\n",
    "            else:\n",
    "                out_name = naming_convention(raster_path, geom)\n",
    "        else:\n",
    "            out_tmp = raster_path.split(\"/\")\n",
    "            out_tmp2 = out_tmp[len(out_tmp) - 1]\n",
    "            out_name = out_tmp2.split(\".\")[0]\n",
    "\n",
    "        output = f\"{output_folder}/{out_name}.tif\"\n",
    "        print(f'Done successfully: {out_name}')\n",
    "        \n",
    "        if extent:\n",
    "            raster_extent = get_layerextent(raster_path)\n",
    "            #raster_extent = get_rasterextent(raster_path) ORIGINAL\n",
    "            sepuede = layer_within_raster(raster_extent, geom, lesser_lextent=lesser_lextent)\n",
    "\n",
    "            if sepuede:\n",
    "                xmin, xmax, ymin, ymax = geom.GetEnvelope()\n",
    "                lextent = [xmin, ymin, xmax, ymax]\n",
    "\n",
    "                ds2 = gdal.Warp(output,\n",
    "                                raster_path,\n",
    "                                format=\"GTiff\",\n",
    "                                outputBounds=lextent)\n",
    "\n",
    "                del ds2\n",
    "\n",
    "        else:\n",
    "            ds2 = gdal.Warp(output,\n",
    "                            raster_path,\n",
    "                            format=\"GTiff\",\n",
    "                            cutlineDSName=layer_tiles,\n",
    "                            cutlineWhere=f\"{field} = '{fid}'\",\n",
    "                            cropToCutline=True)\n",
    "            del ds2\n",
    "\n",
    "    layer.ResetReading()\n",
    "    ds.FlushCache()\n",
    "\n",
    "    del ds"
   ]
  },
  {
   "cell_type": "markdown",
   "metadata": {},
   "source": [
    "Define path to files and execute"
   ]
  },
  {
   "cell_type": "code",
   "execution_count": null,
   "metadata": {},
   "outputs": [],
   "source": [
    "tmp = '/home/jovyan/work/DATASET/'\n",
    "layer_tiles=f'{tmp}Dataset_files/grid_comunidad_valenciana.gpkg'\n",
    "raster_path=f'{tmp}Dataset_processing/Mask/comunidad_valenciana_mask.tif'\n",
    "output_folder=f'{tmp}Dataset_processing/Tiling'\n",
    "\n",
    "masking_tiles(layer_tiles, raster_path, output_folder)"
   ]
  },
  {
   "cell_type": "code",
   "execution_count": 2,
   "metadata": {},
   "outputs": [
    {
     "ename": "NameError",
     "evalue": "name 'time' is not defined",
     "output_type": "error",
     "traceback": [
      "\u001b[0;31m---------------------------------------------------------------------------\u001b[0m",
      "\u001b[0;31mNameError\u001b[0m                                 Traceback (most recent call last)",
      "\u001b[0;32m<ipython-input-2-da074b53a6de>\u001b[0m in \u001b[0;36m<module>\u001b[0;34m\u001b[0m\n\u001b[0;32m----> 1\u001b[0;31m \u001b[0mprint\u001b[0m\u001b[0;34m(\u001b[0m\u001b[0;34mf'Tiling finished successfully in {time.time() - seg_start} s'\u001b[0m\u001b[0;34m)\u001b[0m\u001b[0;34m\u001b[0m\u001b[0;34m\u001b[0m\u001b[0m\n\u001b[0m",
      "\u001b[0;31mNameError\u001b[0m: name 'time' is not defined"
     ]
    }
   ],
   "source": [
    "print(f'Tiling finished successfully in {time.time() - seg_start} s')"
   ]
  },
  {
   "cell_type": "code",
   "execution_count": null,
   "metadata": {},
   "outputs": [],
   "source": []
  }
 ],
 "metadata": {
  "kernelspec": {
   "display_name": "Python 3",
   "language": "python",
   "name": "python3"
  },
  "language_info": {
   "codemirror_mode": {
    "name": "ipython",
    "version": 3
   },
   "file_extension": ".py",
   "mimetype": "text/x-python",
   "name": "python",
   "nbconvert_exporter": "python",
   "pygments_lexer": "ipython3",
   "version": "3.8.6"
  }
 },
 "nbformat": 4,
 "nbformat_minor": 4
}
