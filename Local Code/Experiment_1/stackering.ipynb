{
 "cells": [
  {
   "cell_type": "markdown",
   "metadata": {},
   "source": [
    "# Stackering\n",
    "This script contains a method for stackering different bands of a raster image"
   ]
  },
  {
   "cell_type": "markdown",
   "metadata": {},
   "source": [
    "**Import libraries**"
   ]
  },
  {
   "cell_type": "code",
   "execution_count": 1,
   "metadata": {},
   "outputs": [
    {
     "name": "stdout",
     "output_type": "stream",
     "text": [
      "Libraries imported successfully\n"
     ]
    }
   ],
   "source": [
    "import rasterio\n",
    "import os\n",
    "import glob\n",
    "import time\n",
    "\n",
    "print('Libraries imported successfully')"
   ]
  },
  {
   "cell_type": "code",
   "execution_count": 2,
   "metadata": {},
   "outputs": [],
   "source": [
    "seg_start=time.time() #For checking ejecution time"
   ]
  },
  {
   "cell_type": "markdown",
   "metadata": {},
   "source": [
    "**Sentinel-2 images directory**\n",
    "\n",
    "Define the path to the directory where all the files downloaded from Copernicos are saved the way they have been downloaded"
   ]
  },
  {
   "cell_type": "code",
   "execution_count": 3,
   "metadata": {},
   "outputs": [],
   "source": [
    "tmp = '/home/jovyan/work/DATASET/'\n",
    "input= f'{tmp}Dataset_sentinel'"
   ]
  },
  {
   "cell_type": "markdown",
   "metadata": {},
   "source": [
    "Save directories"
   ]
  },
  {
   "cell_type": "code",
   "execution_count": 4,
   "metadata": {},
   "outputs": [],
   "source": [
    "i=0\n",
    "for base, dirs, files in os.walk(input):\n",
    "    i=i+1\n",
    "    if i==1:\n",
    "        dirs_path=dirs"
   ]
  },
  {
   "cell_type": "code",
   "execution_count": 5,
   "metadata": {},
   "outputs": [
    {
     "data": {
      "text/plain": [
       "['SENTINEL2A_20200927-110006-031_L2A_T30TYK_C_V2-2',\n",
       " 'SENTINEL2A_20200927-110009-082_L2A_T30TXK_C_V2-2',\n",
       " 'SENTINEL2B_20200902-105949-025_L2A_T30TYL_C_V2-2',\n",
       " 'SENTINEL2B_20200912-110031-737_L2A_T30SYH_C_V2-2',\n",
       " 'SENTINEL2B_20201012-110036-590_L2A_T30SXH_C_V2-2',\n",
       " 'SENTINEL2B_20201101-110017-667_L2A_T30SYJ_C_V2-2',\n",
       " 'SENTINEL2B_20201101-110020-834_L2A_T30SXJ_C_V2-2']"
      ]
     },
     "execution_count": 5,
     "metadata": {},
     "output_type": "execute_result"
    }
   ],
   "source": [
    "dirs_path"
   ]
  },
  {
   "cell_type": "code",
   "execution_count": null,
   "metadata": {},
   "outputs": [
    {
     "name": "stdout",
     "output_type": "stream",
     "text": [
      "Processing time: 97.0190110206604 s. Stackering image T30TYK finished successfully\n",
      "Processing time: 119.26711440086365 s. Stackering image T30TXK finished successfully\n"
     ]
    }
   ],
   "source": [
    "for subfile in dirs_path:\n",
    "    \n",
    "    z=f'{input}/{subfile}/{subfile}'\n",
    "    subfiles = glob.glob(f'{z}_SRE_B*.tif')\n",
    "    for i in subfiles:\n",
    "        if 'B2' in i:\n",
    "            band2 = rasterio.open(i, driver='GTiff') #blue\n",
    "        if 'B3' in i:\n",
    "            band3 = rasterio.open(i, driver='GTiff') #green\n",
    "        if 'B4' in i:\n",
    "            band4 = rasterio.open(i, driver='GTiff') #red\n",
    "\n",
    "    splitfile = subfile.split(\"_\")\n",
    "    rename = splitfile[3]\n",
    "    \n",
    "    #export stackering\n",
    "    trueColor = rasterio.open(f'{tmp}Dataset_processing/Stackering/AAS{rename}.tif','w',driver='Gtiff',\n",
    "                             width=band4.width, height=band4.height,\n",
    "                             count=3,\n",
    "                             crs=band4.crs,\n",
    "                             transform=band4.transform,\n",
    "                             dtype=band4.dtypes[0]\n",
    "                             )\n",
    "    trueColor.write(band2.read(1),3) #blue\n",
    "    trueColor.write(band3.read(1),2) #green\n",
    "    trueColor.write(band4.read(1),1) #red\n",
    "    trueColor.close()\n",
    "    print(f'Processing time: {time.time() - seg_start} s. Stackering image {rename} finished successfully')\n"
   ]
  },
  {
   "cell_type": "code",
   "execution_count": null,
   "metadata": {},
   "outputs": [],
   "source": []
  }
 ],
 "metadata": {
  "kernelspec": {
   "display_name": "Python 3",
   "language": "python",
   "name": "python3"
  },
  "language_info": {
   "codemirror_mode": {
    "name": "ipython",
    "version": 3
   },
   "file_extension": ".py",
   "mimetype": "text/x-python",
   "name": "python",
   "nbconvert_exporter": "python",
   "pygments_lexer": "ipython3",
   "version": "3.8.6"
  }
 },
 "nbformat": 4,
 "nbformat_minor": 4
}
